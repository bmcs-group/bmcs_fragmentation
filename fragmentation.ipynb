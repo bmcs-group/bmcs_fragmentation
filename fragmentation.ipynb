{
 "cells": [
  {
   "cell_type": "markdown",
   "metadata": {},
   "source": [
    "# Probabilistic Multiple Cracking Model of Brittle-Matrix Composite\n",
    "The notebooks provides an executable for of the model of multiple-cracking presented in the paper \n",
    "[citation]\n",
    "Elementary studies presented in the paper are reproduced. At the end, an interactive application of the \n",
    "present model "
   ]
  },
  {
   "cell_type": "code",
   "execution_count": null,
   "metadata": {},
   "outputs": [],
   "source": [
    "%matplotlib notebook\n",
    "import numpy as np\n",
    "from scipy.optimize import newton\n",
    "import matplotlib.pylab as plt"
   ]
  },
  {
   "cell_type": "code",
   "execution_count": null,
   "metadata": {},
   "outputs": [],
   "source": [
    "Em=25e3  # [MPa] matrix modulus\n",
    "Ef=180e3  # [MPa] fiber modulus\n",
    "vf=0.01  # reinforcement ratio\n",
    "T=12.  # bond intensity\n",
    "sig_cu=10.0 # [MPa] composite strength\n",
    "sig_mu=3.0 # [MPa] matrix strength\n",
    "m=10000 # Weibull shape modulus"
   ]
  },
  {
   "cell_type": "markdown",
   "metadata": {},
   "source": [
    "## Crack bridge with constant bond"
   ]
  },
  {
   "cell_type": "code",
   "execution_count": null,
   "metadata": {},
   "outputs": [],
   "source": [
    "def get_sig_m(z, sig_c):  # matrix stress (*\\label{sig_m}*)\n",
    "    sig_m = np.minimum(z * T * vf / (1 - vf), Em * sig_c / (vf * Ef + (1 - vf) * Em))\n",
    "    return sig_m\n",
    "\n",
    "def get_eps_f(z, sig_c):  # reinforcement strain (*\\label{sig_f}*)\n",
    "    sig_m = get_sig_m(z, sig_c)\n",
    "    eps_f = (sig_c - sig_m * (1 - vf)) / vf / Ef\n",
    "    return eps_f"
   ]
  },
  {
   "cell_type": "markdown",
   "metadata": {},
   "source": [
    "## Specimen discretization"
   ]
  },
  {
   "cell_type": "code",
   "execution_count": null,
   "metadata": {},
   "outputs": [],
   "source": [
    "def get_z_x(x, XK):  # distance to the closest crack (*\\label{get_z_x}*)\n",
    "    z_grid = np.abs(x[:, np.newaxis] - np.array(XK)[np.newaxis, :])\n",
    "    return np.amin(z_grid, axis=1)\n",
    "\n",
    "import warnings # (*\\label{error1}*)\n",
    "warnings.filterwarnings(\"error\", category=RuntimeWarning) # (*\\label{error2}*)\t\n",
    "def get_sig_c_z(sig_mu, z, sig_c_pre): \n",
    "    # crack initiating load at a material element\n",
    "    fun = lambda sig_c: sig_mu - get_sig_m(z, sig_c)\n",
    "    try:  # search for the local crack load level\n",
    "        return newton(fun, sig_c_pre)\n",
    "    except (RuntimeWarning, RuntimeError):\n",
    "        # solution not found (shielded zone) return the ultimate composite strength\n",
    "        return sig_cu\n",
    "\n",
    "def get_sig_c_K(z_x, x, sig_c_pre, sig_mu_x):\n",
    "    # crack initiating loads over the whole specimen\n",
    "    get_sig_c_x = np.vectorize(get_sig_c_z)\n",
    "    sig_c_x = get_sig_c_x(sig_mu_x, z_x, sig_c_pre) \n",
    "    y_idx = np.argmin(sig_c_x)\n",
    "    return sig_c_x[y_idx], x[y_idx]"
   ]
  },
  {
   "cell_type": "markdown",
   "metadata": {},
   "source": [
    "## Crack tracing algorithm"
   ]
  },
  {
   "cell_type": "code",
   "execution_count": null,
   "metadata": {},
   "outputs": [],
   "source": [
    "n_x=5000\n",
    "L_x=500\n",
    "def get_cracking_history(update_progress=None):\n",
    "    x = np.linspace(0, L_x, n_x)  # specimen discretization (*\\label{discrete}*)\n",
    "    sig_mu_x = 3.0 * np.random.weibull(m, size=n_x) # matrix strength (*\\label{m_strength}*)\n",
    "\n",
    "    Ec = Em * (1-vf) + Ef*vf # [MPa] mixture rule\n",
    "\n",
    "    XK = [] # recording the crack postions\n",
    "    sig_c_K = [0.] # recording the crack initating loads\n",
    "    eps_c_K = [0.] # recording the composite strains\n",
    "\n",
    "    idx_0 = np.argmin(sig_mu_x)\n",
    "    XK.append(x[idx_0])  # position of the first crack\n",
    "    sig_c_0 = sig_mu_x[idx_0] * Ec / Em\n",
    "    sig_c_K.append(sig_c_0)\n",
    "    eps_c_K.append(sig_mu_x[idx_0] / Em)\n",
    "\n",
    "    while True:\n",
    "        z_x = get_z_x(x, XK)\n",
    "        sig_c_k, y_i = get_sig_c_K(z_x, x, sig_c_K[-1], sig_mu_x)\n",
    "        if sig_c_k == sig_cu: # (*\\label{no_crack}*)\n",
    "            break\n",
    "        if update_progress:\n",
    "            update_progress(sig_c_k)\n",
    "        XK.append(y_i)\n",
    "        sig_c_K.append(sig_c_k)\n",
    "        eps_c_K.append(\n",
    "        np.trapz(get_eps_f(get_z_x(x, XK), sig_c_k), x) / np.amax(x)) # (*\\label{imple_avg_strain}*)\n",
    "        \n",
    "    sig_c_K.append(sig_cu) # the ultimate state\n",
    "    eps_c_K.append(np.trapz(get_eps_f(get_z_x(x, XK), sig_cu), x) / np.amax(x))\n",
    "    if update_progress:\n",
    "        update_progress(sig_c_k)\n",
    "    return sig_c_K, eps_c_K"
   ]
  },
  {
   "cell_type": "markdown",
   "metadata": {},
   "source": [
    "## Examples"
   ]
  },
  {
   "cell_type": "code",
   "execution_count": null,
   "metadata": {},
   "outputs": [],
   "source": [
    "sig_c_K, eps_c_K = get_cracking_history() # (*\\label{calc_curve}*)\n",
    "plt.plot(eps_c_K, sig_c_K) # (*\\label{show_curve1}*)\n",
    "plt.show() # (*\\label{show_curve2}*)"
   ]
  },
  {
   "cell_type": "markdown",
   "metadata": {},
   "source": [
    "## Interactive application"
   ]
  },
  {
   "cell_type": "code",
   "execution_count": null,
   "metadata": {
    "scrolled": false
   },
   "outputs": [],
   "source": [
    "import ipywidgets as ipw\n",
    "n_steps = 20\n",
    "margs_sliders = {\n",
    "    name : ipw.FloatSlider(description=name, value=val, \n",
    "                            min=minval, max=maxval, step=(maxval-minval) / n_steps,\n",
    "                           continuous_update=False)\n",
    "    for name, val, minval, maxval in [('Em', 1, 1, 50),\n",
    "                                      ('Ef', 1, 1, 250),\n",
    "                                      ('vf', 0.1, 0.00001, 0.5),\n",
    "                                      ('T', 1, 0.0001, 10),\n",
    "                                      ('sig_cu', 10, 3, 100),\n",
    "                                     ('sig_mu',3.0, 1, 10),\n",
    "                                     ('m',100,0.1,100),\n",
    "                                     ('L_x',500,200,2000)]\n",
    "}\n",
    "margs_sliders['n_x'] = ipw.IntSlider(description='n_x', value=20,\n",
    "                             min=20, max=1000, step=1000/20)\n",
    "progress = ipw.FloatProgress(min=0, max=1) # instantiate the bar\n",
    "\n",
    "fig, ax = plt.subplots(1,1,figsize=(6,4))\n",
    "\n",
    "def update_progress(sig):\n",
    "    progress.value = sig\n",
    "\n",
    "def init():\n",
    "    for key, sl in margs_sliders.items():\n",
    "        globals()[key] = sl.value\n",
    "    sig_c_K, eps_c_K = get_cracking_history(update_progress) # (*\\label{calc_curve}*)\n",
    "    progress.max = margs_sliders['sig_cu'].value\n",
    "    ax.plot(eps_c_K, sig_c_K) # (*\\label{show_curve1}*)\n",
    "        \n",
    "def update(**mparams):\n",
    "    for key, val in mparams.items():\n",
    "        globals()[key] = val\n",
    "    ax.clear()\n",
    "    sig_c_K, eps_c_K = get_cracking_history(update_progress) # (*\\label{calc_curve}*)\n",
    "    ax.plot(eps_c_K, sig_c_K) # (*\\label{show_curve1}*)\n",
    "\n",
    "init()\n",
    "display(progress) # display the bar\n",
    "ipw.interact(update, **margs_sliders);"
   ]
  }
 ],
 "metadata": {
  "kernelspec": {
   "display_name": "Python 3",
   "language": "python",
   "name": "python3"
  },
  "language_info": {
   "codemirror_mode": {
    "name": "ipython",
    "version": 3
   },
   "file_extension": ".py",
   "mimetype": "text/x-python",
   "name": "python",
   "nbconvert_exporter": "python",
   "pygments_lexer": "ipython3",
   "version": "3.7.6"
  },
  "toc": {
   "base_numbering": 1,
   "nav_menu": {},
   "number_sections": true,
   "sideBar": true,
   "skip_h1_title": true,
   "title_cell": "Table of Contents",
   "title_sidebar": "Contents",
   "toc_cell": false,
   "toc_position": {},
   "toc_section_display": true,
   "toc_window_display": true
  }
 },
 "nbformat": 4,
 "nbformat_minor": 4
}
